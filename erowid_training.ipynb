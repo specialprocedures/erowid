{
 "cells": [
  {
   "cell_type": "code",
   "execution_count": 1,
   "metadata": {},
   "outputs": [],
   "source": [
    "import pandas as pd\n",
    "import random\n",
    "from itertools import chain\n",
    "import pickle\n",
    "import nltk\n",
    "\n",
    "from nltk.classify.scikitlearn import SklearnClassifier\n",
    "from sklearn.linear_model import LogisticRegression,SGDClassifier\n",
    "from sklearn.svm import SVC, LinearSVC, NuSVC\n",
    "from sklearn.naive_bayes import MultinomialNB,BernoulliNB\n",
    "\n",
    "def clean_word_f(x):\n",
    "    out = []\n",
    "    x = word_tokenize(x.lower())\n",
    "    for i in x:\n",
    "        i = i.strip(\"'\")\n",
    "        if i not in stop_words and i not in subs_list and re.match(r'[a-z]', i) and len(i) >2:\n",
    "            out.append(wnl.lemmatize(i, get_pos(i)))\n",
    "    return out"
   ]
  },
  {
   "cell_type": "code",
   "execution_count": 2,
   "metadata": {},
   "outputs": [],
   "source": [
    "df = pickle.load(open(\"dataframe.pickle\", \"rb\" ) )"
   ]
  },
  {
   "cell_type": "code",
   "execution_count": null,
   "metadata": {},
   "outputs": [],
   "source": []
  },
  {
   "cell_type": "markdown",
   "metadata": {},
   "source": [
    "## Training a classifyer\n",
    "Big thanks to this tutorial, which I've shamelessly robbed from:\n",
    "\n",
    "https://pythonprogramming.net/words-as-features-nltk-tutorial/"
   ]
  },
  {
   "cell_type": "code",
   "execution_count": 40,
   "metadata": {},
   "outputs": [
    {
     "data": {
      "text/plain": [
       "id\n",
       "1         ['\\r\\nfinally friday arrives, i bought my 30$ ...\n",
       "2         ['\\r\\nat first it was just another rave with m...\n",
       "3         [\"\\r\\ni've rolled about 10 times before this e...\n",
       "4         ['\\r\\n\\r\\ni have had the opportunity to try 2c...\n",
       "5         ['\\r\\n\\r\\nhaving read some accounts of nausea ...\n",
       "6         ['\\r\\n\\r\\nthis was not my first experiment wit...\n",
       "7         ['\\r\\n\\r\\nmy first experience with the mushroo...\n",
       "8         ['\\r\\n\\r\\ntripping outdoors is always the best...\n",
       "9         ['\\r\\n\\r\\nthis was going to be my second time ...\n",
       "10        ['\\r\\n\\r\\nmy friend had some experience with x...\n",
       "11        [\"\\r\\n\\r\\nthe only drug other than pot that i'...\n",
       "12        ['\\r\\n\\r\\necstacy was first brought to my atte...\n",
       "13        [\"\\r\\n\\r\\ni had done salvia a few times before...\n",
       "14        [\"\\r\\n\\r\\n\\r\\nmy friend 'bill' and i were goin...\n",
       "15        ['\\r\\n\\r\\ni unfortunately happen to be one tha...\n",
       "16        ['\\r\\nmy family owns a cottage in the muskoka ...\n",
       "17        ['\\r\\n\\r\\nwhat i had really wanted to get was ...\n",
       "18        [\"\\r\\n\\r\\ncheers to the world from portugal ;)...\n",
       "19        ['\\r\\n\\r\\nmy experience last night on lsd was ...\n",
       "22        [\"\\r\\n\\r\\ni'm a lucky person (aren't we all at...\n",
       "23        [\"\\r\\n\\r\\ni was interested in trying amt becau...\n",
       "24        ['\\r\\n\\r\\ni had procured an amount of amt from...\n",
       "25        ['\\r\\n\\r\\nin amsterdam, the law permits things...\n",
       "26        [\"\\r\\n\\r\\ni recently came into possession of s...\n",
       "27        ['\\r\\n\\r\\nthis is bad shit.', 'the problem is ...\n",
       "28        ['\\r\\n\\r\\nthis is my experience with the datur...\n",
       "29        [\"\\r\\n\\r\\ni was at my friend's house and decid...\n",
       "30        [\"\\r\\n\\r\\ni'm at a rainbow gathering and a des...\n",
       "31        ['\\r\\n\\r\\ni started to snort cocaine about a y...\n",
       "32        ['\\r\\n\\r\\nwhile in college hanging with some f...\n",
       "                                ...                        \n",
       "109239    ['\\r\\nit makes me nauseous thinking of what i ...\n",
       "109243    ['\\r\\n0915 - (1) 325/5 acetominophen/oxycodone...\n",
       "109244    [' right now!', \"i don't think i've ever seen ...\n",
       "109252    [\"\\r\\nit's eleven-o-clock in the morning.\", 'r...\n",
       "109258    [\"\\r\\nmay 26, 2016 ; a new heaven (+++++) \\r\\n...\n",
       "109261    ['\\r\\npreliminary\\r\\n\\r\\na reckless and though...\n",
       "109263    ['\\r\\nlsd and vortioxetine withdrawal\\r\\n\\r\\nb...\n",
       "109277    ['\\r\\nclonazolam warning\\r\\n\\r\\ni submit this ...\n",
       "109281    ['\\r\\n\\r\\nwhatever form ego loss takes at this...\n",
       "109289    ['\\r\\nt - 1 day\\r\\n\\r\\ni had been planning thi...\n",
       "109306    ['\\r\\ni have been a long term user of opiates ...\n",
       "109307    ['\\r\\n9:34pm\\r\\n\\r\\ni take a quarter tab of al...\n",
       "109310    ['\\r\\nthis was not my first time using cbd.', ...\n",
       "109315    ['\\r\\nit all started about six years ago.', 'w...\n",
       "109318    ['\\r\\ntripping anxiety at ease after 10mg of 2...\n",
       "109322    ['\\r\\nwell, where to even begin with one of th...\n",
       "109328    ['\\r\\nwhat happened to me was permanent this f...\n",
       "109338    ['\\r\\ni was (incorrectly) diagnosed with bipol...\n",
       "109346    ['\\r\\na non-romantic dmt experience\\r\\n\\r\\ni i...\n",
       "109348    ['\\r\\nbarbiturate are nothing i know much of.'...\n",
       "109350                                              ['nan']\n",
       "109355                                              ['nan']\n",
       "109368    ['\\r\\nthis will be a report of my experience w...\n",
       "109375    ['\\r\\n in my still young life i experienced se...\n",
       "109396    [\", but i thought i'd like to make a note abou...\n",
       "109402    ['<!--part iv | when bad trips happen to good ...\n",
       "109410    ['\\r\\nthis was a pretty revealing and powerful...\n",
       "109421    ['\\r\\nthroughout my 20s, i dabbled in opiates....\n",
       "109423    ['\\r\\nthis was my first experience with met.',...\n",
       "109464    [\"\\r\\nit's not the first time a take pregabali...\n",
       "Name: token_sent, Length: 23829, dtype: object"
      ]
     },
     "execution_count": 40,
     "metadata": {},
     "output_type": "execute_result"
    }
   ],
   "source": [
    "df.token_sent\n",
    "# df.substance\n",
    "# Keeping only the experiences clearly listed as positive or negative. Might bring the other ones in again later, but for now\n",
    "# this is all I need.\n",
    "# df = df[df['tone'].isin([\"Positive\", \"Negative\"])]\n",
    "\n",
    "# ## I want at least 100 of each substance and category\n",
    "# for i in ['substance', 'sub_cats']:\n",
    "#     top_list = df[i].value_counts().reset_index()\n",
    "#     df = df[df[i].isin(top_list[top_list[i] > 100]['index'])]"
   ]
  },
  {
   "cell_type": "code",
   "execution_count": 6,
   "metadata": {},
   "outputs": [],
   "source": [
    "# Create a list of tuples from the df, thanks to https://stackoverflow.com/questions/9758450/pandas-convert-dataframe-to-array-of-tuples\n",
    "documents = list(df[['word_clean','tone']][df['tone'].isin(['Positive', 'Negative'])].itertuples(index=False, name=None))\n",
    "\n",
    "## Shuffle for good measure\n",
    "random.shuffle(documents)\n",
    "\n",
    "## Create a big ole list of all words in the corpus for a freq count\n",
    "all_words = list(chain.from_iterable(df['word_clean'][df['tone'].isin(['Positive', 'Negative'])].tolist()))\n",
    "\n",
    "## Word counts, should do something fun with this if I've got time\n",
    "all_words = nltk.FreqDist(all_words)\n",
    "\n",
    "word_features = list(all_words.keys())[:2000]\n",
    "\n",
    "## Returns a featureset as a list of tuples of dictionaries\n",
    "def find_features(documents):\n",
    "    words = set(documents)\n",
    "    features = {}\n",
    "    for w in word_features:\n",
    "        features[w] = (w in words)\n",
    "\n",
    "    return features\n",
    "\n",
    "featuresets = [(find_features(rev), category) for (rev, category) in documents]\n",
    "\n",
    "## This does the same thing, but word_tokenizes its input. This is used for mucking around with new data.\n",
    "def find_feats(document):\n",
    "    words = clean_word_f(document)\n",
    "    features = {}\n",
    "    for w in word_features:\n",
    "        features[w] = (w in words)\n",
    "\n",
    "    return features\n",
    "\n",
    "## And finally preparing our training and testing sets\n",
    "split_len = int(round(len(featuresets) * .90, 0))\n",
    "split_len\n",
    "\n",
    "## Training and testing sets\n",
    "training_set = featuresets[:split_len]\n",
    "testing_set = featuresets[split_len:]\n"
   ]
  },
  {
   "cell_type": "code",
   "execution_count": 27,
   "metadata": {},
   "outputs": [
    {
     "data": {
      "text/plain": [
       "'['"
      ]
     },
     "execution_count": 27,
     "metadata": {},
     "output_type": "execute_result"
    }
   ],
   "source": []
  },
  {
   "cell_type": "code",
   "execution_count": 7,
   "metadata": {},
   "outputs": [
    {
     "name": "stdout",
     "output_type": "stream",
     "text": [
      "Classifier accuracy percent: 71.95402298850576\n",
      "Most Informative Features\n",
      "                softness = True           Positi : Negati =     13.6 : 1.0\n",
      "                  enigma = True           Positi : Negati =     11.3 : 1.0\n",
      "               enrapture = True           Positi : Negati =     11.3 : 1.0\n",
      "                hospital = True           Negati : Positi =     10.0 : 1.0\n",
      "                 backrub = True           Positi : Negati =      9.7 : 1.0\n",
      "                   brook = True           Positi : Negati =      9.0 : 1.0\n",
      "                scariest = True           Negati : Positi =      8.9 : 1.0\n",
      "      interconnectedness = True           Positi : Negati =      8.2 : 1.0\n",
      "                 oneness = True           Positi : Negati =      7.7 : 1.0\n",
      "                    rosy = True           Positi : Negati =      7.4 : 1.0\n"
     ]
    }
   ],
   "source": [
    "classifier = nltk.NaiveBayesClassifier.train(training_set)\n",
    "print(\"Classifier accuracy percent:\",(nltk.classify.accuracy(classifier, testing_set))*100)\n",
    "\n",
    "classifier.show_most_informative_features(10)\n",
    "\n",
    "save_classifier = open(\"naivebayes.pickle\",\"wb\")\n",
    "pickle.dump(classifier, save_classifier)\n",
    "save_classifier.close()"
   ]
  },
  {
   "cell_type": "code",
   "execution_count": null,
   "metadata": {},
   "outputs": [],
   "source": [
    "\n",
    "print(\"Original Naive Bayes Algo accuracy percent:\", (nltk.classify.accuracy(classifier, testing_set))*100)\n",
    "classifier.show_most_informative_features(15)\n",
    "\n",
    "for i in [MultinomialNB, BernoulliNB, LogisticRegression, SGDClassifier, SVC, LinearSVC, NuSVC]:\n",
    "    i = SklearnClassifier(i())\n",
    "    i.train(training_set)\n",
    "#     i.show_most_informative_features(15)\n",
    "    print(\"Accuracy percent:\", (nltk.classify.accuracy(i, testing_set))*100)\n",
    "\n",
    "\n",
    "# MNB_classifier = SklearnClassifier(MultinomialNB())\n",
    "# MNB_classifier.train(training_set)\n",
    "# print(\"MNB_classifier accuracy percent:\", (nltk.classify.accuracy(MNB_classifier, testing_set))*100)\n",
    "\n",
    "# BernoulliNB_classifier = SklearnClassifier(BernoulliNB())\n",
    "# BernoulliNB_classifier.train(training_set)\n",
    "# print(\"BernoulliNB_classifier accuracy percent:\", (nltk.classify.accuracy(BernoulliNB_classifier, testing_set))*100)\n",
    "\n",
    "# LogisticRegression_classifier = SklearnClassifier(LogisticRegression())\n",
    "# LogisticRegression_classifier.train(training_set)\n",
    "# print(\"LogisticRegression_classifier accuracy percent:\", (nltk.classify.accuracy(LogisticRegression_classifier, testing_set))*100)\n",
    "\n",
    "# SGDClassifier_classifier = SklearnClassifier(SGDClassifier())\n",
    "# SGDClassifier_classifier.train(training_set)\n",
    "# print(\"SGDClassifier_classifier accuracy percent:\", (nltk.classify.accuracy(SGDClassifier_classifier, testing_set))*100)\n",
    "\n",
    "# SVC_classifier = SklearnClassifier(SVC())\n",
    "# SVC_classifier.train(training_set)\n",
    "# print(\"SVC_classifier accuracy percent:\", (nltk.classify.accuracy(SVC_classifier, testing_set))*100)\n",
    "\n",
    "# LinearSVC_classifier = SklearnClassifier(LinearSVC())\n",
    "# LinearSVC_classifier.train(training_set)\n",
    "# print(\"LinearSVC_classifier accuracy percent:\", (nltk.classify.accuracy(LinearSVC_classifier, testing_set))*100)\n",
    "\n",
    "# NuSVC_classifier = SklearnClassifier(NuSVC())\n",
    "# NuSVC_classifier.train(training_set)\n",
    "# print(\"NuSVC_classifier accuracy percent:\", (nltk.classify.accuracy(NuSVC_classifier, testing_set))*100)"
   ]
  },
  {
   "cell_type": "code",
   "execution_count": null,
   "metadata": {},
   "outputs": [],
   "source": [
    "with open(\"input.txt\") as f:\n",
    "    test = f.read()\n",
    "\n",
    "# for i in [MultinomialNB, BernoulliNB, LogisticRegression, SGDClassifier, SVC, LinearSVC, NuSVC]:\n",
    "classified = classifier.prob_classify(find_feats(test))\n",
    "print(classified.prob('Negative'))\n",
    "\n",
    "# sia.polarity_scores(test)"
   ]
  },
  {
   "cell_type": "code",
   "execution_count": null,
   "metadata": {},
   "outputs": [],
   "source": []
  },
  {
   "cell_type": "code",
   "execution_count": null,
   "metadata": {},
   "outputs": [],
   "source": [
    "accuracy = {\"Whole Report\" : df.vw_acc.mean(), \"Cleaned and Tokenised\" : df.vc_acc.mean(), \"Sentance Average\" : df.vs_acc.mean()}\n",
    "accuracy_scores = pd.DataFrame(list(accuracy.items()), columns = [\"Method\", \"Accuracy\"]).set_index(\"Method\")\n",
    "accuracy_scores"
   ]
  }
 ],
 "metadata": {
  "kernelspec": {
   "display_name": "Python 3",
   "language": "python",
   "name": "python3"
  },
  "language_info": {
   "codemirror_mode": {
    "name": "ipython",
    "version": 3
   },
   "file_extension": ".py",
   "mimetype": "text/x-python",
   "name": "python",
   "nbconvert_exporter": "python",
   "pygments_lexer": "ipython3",
   "version": "3.6.5"
  },
  "toc": {
   "base_numbering": 1,
   "nav_menu": {},
   "number_sections": false,
   "sideBar": false,
   "skip_h1_title": false,
   "title_cell": "Table of Contents",
   "title_sidebar": "Contents",
   "toc_cell": false,
   "toc_position": {},
   "toc_section_display": false,
   "toc_window_display": false
  }
 },
 "nbformat": 4,
 "nbformat_minor": 2
}
